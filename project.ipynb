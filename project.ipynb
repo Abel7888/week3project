{
 "cells": [
  {
   "cell_type": "code",
   "execution_count": null,
   "metadata": {},
   "outputs": [],
   "source": [
    "class CalculationofRentalIncome():\n",
    "    \"\"\"A four step method to find out the calculation of rental income. ROI\"\"\"\n",
    "    def __init__(self):\n",
    "        self.totalmonthlyincome = 0\n",
    "        self.totalmonthlyexpenses = 0\n",
    "        self.totalmonthlycashflow = 0\n",
    "        self.totalinvestment = 0\n",
    "        self.returnOnInvestment = 0\n",
    "\n",
    "    def Income(self):\n",
    "        \"\"\" Monly income for possible rental property\"\"\"\n",
    "        self.rent = int(input(\"Please enter the estimated amount of rental income: \"))\n",
    "        self.laundry = int(input(f\"Please enter the estimated laundry income: \"))\n",
    "        self.storage = int(input(f\"Please enter the estimated storage income: \"))\n",
    "        self.miscellaneousincome = int(input(\"Please enter the estimated miscellaneous income: \"))\n",
    "\n",
    "        if self.rent >= 0:\n",
    "            print(f\"Your monthly estimated rent is {self.rent}\")\n",
    "        elif self.rent < 0:\n",
    "            print(\"Invalid input, please try again.\")\n",
    "\n",
    "        if self.laundry >= 0:\n",
    "            print(f\"Your montly laundry income is {self.laundry} \")\n",
    "        elif self.laundry < 0:\n",
    "            print(\"Invalid Input, please try again.\")\n",
    "\n",
    "        if self.storage >= 0:\n",
    "            print(f\" Your monthly storage income is {self.storage}\")\n",
    "        elif self.storage < 0:\n",
    "            print(\"Invalid Input, please try again.\")\n",
    "\n",
    "        if self.miscellaneousincome >= 0:\n",
    "            print(f\"Your monthly miscellaneous is {self.miscellaneousincome}\")\n",
    "        elif self.miscellaneousincome < 0:\n",
    "            print(\"Invalid Input, please try again.\")\n",
    "\n",
    "        print(f\"The total monthly income is: \")\n",
    "        return self.rent + self.laundry + self.storage +  self.miscellaneousincome == \n",
    "        self.totalmonthlyincome\n",
    "        "
   ]
  }
 ],
 "metadata": {
  "kernelspec": {
   "display_name": "Python 3.10.8 64-bit",
   "language": "python",
   "name": "python3"
  },
  "language_info": {
   "name": "python",
   "version": "3.10.8"
  },
  "orig_nbformat": 4,
  "vscode": {
   "interpreter": {
    "hash": "c3dcfcd2b4f8e8f0c611c08e622c86a20cb483c2c1ccf36e9cf27065b69ccba9"
   }
  }
 },
 "nbformat": 4,
 "nbformat_minor": 2
}
