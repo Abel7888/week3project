{
 "cells": [
  {
   "cell_type": "code",
   "execution_count": null,
   "metadata": {},
   "outputs": [],
   "source": [
    "##You get an array of numbers, return the sum of all of the positives ones.\n",
    "\n",
    "#Example [1,-4,7,12] => 1 + 7 + 12 = 20\n",
    "\n",
    "#Note: if there is nothing to sum, the sum is default to 0.\n",
    "#def positive_sum(arr):\n",
    "    #sum = 0\n",
    "    #for number in arr:\n",
    "        #if number > 0:\n",
    "            #sum += number\n",
    "    #return sum"
   ]
  },
  {
   "cell_type": "code",
   "execution_count": null,
   "metadata": {},
   "outputs": [],
   "source": [
    "def postive_sum(arr):\n",
    "    sum = 0\n",
    "    for num in arr:\n",
    "        if num > 0:\n",
    "            sum += number\n",
    "        retuen sum\n",
    "\n"
   ]
  },
  {
   "cell_type": "code",
   "execution_count": 2,
   "metadata": {},
   "outputs": [
    {
     "ename": "SyntaxError",
     "evalue": "invalid syntax. Perhaps you forgot a comma? (533274623.py, line 15)",
     "output_type": "error",
     "traceback": [
      "\u001b[1;36m  Cell \u001b[1;32mIn [2], line 15\u001b[1;36m\u001b[0m\n\u001b[1;33m    print('origninal string :' end=\"\")\u001b[0m\n\u001b[1;37m          ^\u001b[0m\n\u001b[1;31mSyntaxError\u001b[0m\u001b[1;31m:\u001b[0m invalid syntax. Perhaps you forgot a comma?\n"
     ]
    }
   ],
   "source": [
    "#using sum() to find the postive num in array\n",
    "def postive_sum(arr):\n",
    "    return sum(number for number in arr if number > 0)\n",
    "#Python code to reverse a string\n",
    "# using reversed()\n",
    "def reverse(string):\n",
    "    string = \"\".join(reversed(string))\n",
    "    return string\n",
    "\n",
    "#another menthod\n",
    "def reverse(string):\n",
    "    string = string[::-1]\n",
    "    return string\n",
    "testrevrese = \"Check to revrese\"\n",
    "print('origninal string :' end=\"\")\n",
    "print(testrevrese)\n",
    "\n",
    "\n",
    " \n",
    "\n",
    "\n",
    "\n"
   ]
  },
  {
   "cell_type": "code",
   "execution_count": 5,
   "metadata": {},
   "outputs": [
    {
     "name": "stdout",
     "output_type": "stream",
     "text": [
      "origninal string :Check to revrese\n",
      "the revrese versioneserver ot kcehC\n"
     ]
    }
   ],
   "source": [
    "#another menthod\n",
    "def reverse(string):\n",
    "    string = string[::-1]\n",
    "    return string\n",
    "testrevrese = \"Check to revrese\"\n",
    "print('origninal string :', end=\"\")\n",
    "print(testrevrese)\n",
    "\n",
    "print(\"the revrese version\", end=\"\")\n",
    "print(reverse(testrevrese))"
   ]
  }
 ],
 "metadata": {
  "kernelspec": {
   "display_name": "Python 3.10.8 64-bit",
   "language": "python",
   "name": "python3"
  },
  "language_info": {
   "codemirror_mode": {
    "name": "ipython",
    "version": 3
   },
   "file_extension": ".py",
   "mimetype": "text/x-python",
   "name": "python",
   "nbconvert_exporter": "python",
   "pygments_lexer": "ipython3",
   "version": "3.10.8"
  },
  "orig_nbformat": 4,
  "vscode": {
   "interpreter": {
    "hash": "c3dcfcd2b4f8e8f0c611c08e622c86a20cb483c2c1ccf36e9cf27065b69ccba9"
   }
  }
 },
 "nbformat": 4,
 "nbformat_minor": 2
}
