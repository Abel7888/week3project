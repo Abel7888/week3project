{
 "cells": [
  {
   "cell_type": "code",
   "execution_count": 17,
   "metadata": {},
   "outputs": [],
   "source": [
    "#Object Oriented Programming - Calculation of Rental Income/// \n",
    "\n",
    "class incomecalulation():\n",
    "    ##calulation of rental income\n",
    "    def __init__(self):\n",
    "        self.monthlyincome = 0\n",
    "        self.monthlyexpences = 0\n",
    "    \n",
    "    #now let define revenu from rental income \n",
    "    def Monthlyincom(self):\n",
    "        self.mrentals = int(input(f'Please enter your rental income for your property: '))\n",
    "        self.mstorage = int(input(f'what is the montly income from storage services: '))\n",
    "        self.mlaundry = int(input(f'What is the toal monthly income from laundry: '))\n",
    "        self.miscellaneousincome = int(input(\"Please enter the estimated miscellaneous income: \"))\n",
    "    #now using if and elif statment\n",
    "\n",
    "       \n",
    "\n",
    "   \n",
    "\n",
    "\n",
    "\n",
    "    \n"
   ]
  },
  {
   "cell_type": "code",
   "execution_count": null,
   "metadata": {},
   "outputs": [],
   "source": []
  }
 ],
 "metadata": {
  "kernelspec": {
   "display_name": "Python 3.10.8 64-bit",
   "language": "python",
   "name": "python3"
  },
  "language_info": {
   "codemirror_mode": {
    "name": "ipython",
    "version": 3
   },
   "file_extension": ".py",
   "mimetype": "text/x-python",
   "name": "python",
   "nbconvert_exporter": "python",
   "pygments_lexer": "ipython3",
   "version": "3.10.8"
  },
  "orig_nbformat": 4,
  "vscode": {
   "interpreter": {
    "hash": "c3dcfcd2b4f8e8f0c611c08e622c86a20cb483c2c1ccf36e9cf27065b69ccba9"
   }
  }
 },
 "nbformat": 4,
 "nbformat_minor": 2
}
